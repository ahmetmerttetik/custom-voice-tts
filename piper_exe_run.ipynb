{
 "cells": [
  {
   "cell_type": "code",
   "execution_count": null,
   "metadata": {},
   "outputs": [
    {
     "name": "stdout",
     "output_type": "stream",
     "text": [
      "zaman:  1.5516743659973145\n"
     ]
    }
   ],
   "source": [
    "import subprocess\n",
    "import time\n",
    "\n",
    "def tts_realtime(txt_file_path,model_onnx_path,piper_path):\n",
    "    \n",
    "    \n",
    "    temp_output_file = txt_file_path.split(\"/\")[-1]\n",
    "    output_wav_file = temp_output_file.split(\".\")[0]+\".wav\"\n",
    "\n",
    "    return subprocess.run(f\"cat {txt_file_path} | {piper_path} --model {model_onnx_path} --output_file {output_wav_file}\",shell=True, capture_output=True, text=True)\n",
    "    \n",
    "\n",
    "t0 = time.time()\n",
    "\n",
    "txt_path = \"/home/.../Desktop/piper/deneme.txt\"\n",
    "\n",
    "piper_path = \"/home/.../Desktop/piper/piper\" \n",
    "\n",
    "piper_path_2 = \"piper/piper\"  \n",
    "\n",
    "model_onnx_path = \"/home/.../Desktop/piper/model_6602.onnx\"\n",
    "\n",
    "\n",
    "tts_realtime(txt_path,model_onnx_path,piper_path_2)\n",
    "\n",
    "t1 = time.time()\n",
    "\n",
    "print(\"zaman: \",t1-t0)"
   ]
  },
  {
   "cell_type": "markdown",
   "metadata": {},
   "source": []
  },
  {
   "cell_type": "code",
   "execution_count": 3,
   "metadata": {},
   "outputs": [
    {
     "data": {
      "text/plain": [
       "'/home/mert/Desktop/piper'"
      ]
     },
     "execution_count": 3,
     "metadata": {},
     "output_type": "execute_result"
    }
   ],
   "source": [
    "pwd"
   ]
  },
  {
   "cell_type": "code",
   "execution_count": 5,
   "metadata": {},
   "outputs": [
    {
     "name": "stdout",
     "output_type": "stream",
     "text": [
      "total 91260\n",
      "-rw-rw-r-- 1 mert mert    12109 Ağu  3 21:45 deneme.ipynb\n",
      "-rw-rw-r-- 1 mert mert      625 Tem 31 22:06 deneme.txt\n",
      "-rw-rw-r-- 1 mert mert  1995772 Ağu  3 21:45 \u001b[0m\u001b[00;36mdeneme.wav\u001b[0m\n",
      "-rw-rw-r-- 1 mert mert 63511038 Ağu  1 12:44 model_6602.onnx\n",
      "-rw-rw-r-- 1 mert mert     7085 Ağu  1 12:45 model_6602.onnx.json\n",
      "drwxrwxrwx 3 mert mert     4096 Ağu  1  2023 \u001b[34;42mpiper\u001b[0m/\n",
      "-rw-rw-r-- 1 mert mert 25916047 Ağu  1  2023 \u001b[01;31mpiper_amd64.tar.gz\u001b[0m\n",
      "-rw-rw-r-- 1 mert mert  1990140 Ağu  3 17:02 \u001b[00;36mwelcome.wav\u001b[0m\n"
     ]
    }
   ],
   "source": [
    "ls -l"
   ]
  },
  {
   "cell_type": "code",
   "execution_count": null,
   "metadata": {},
   "outputs": [],
   "source": []
  },
  {
   "cell_type": "code",
   "execution_count": null,
   "metadata": {},
   "outputs": [],
   "source": []
  }
 ],
 "metadata": {
  "kernelspec": {
   "display_name": "tensorflow_3",
   "language": "python",
   "name": "python3"
  },
  "language_info": {
   "codemirror_mode": {
    "name": "ipython",
    "version": 3
   },
   "file_extension": ".py",
   "mimetype": "text/x-python",
   "name": "python",
   "nbconvert_exporter": "python",
   "pygments_lexer": "ipython3",
   "version": "3.10.14"
  }
 },
 "nbformat": 4,
 "nbformat_minor": 2
}
