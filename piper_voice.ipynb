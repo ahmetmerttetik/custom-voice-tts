{
 "cells": [
  {
   "cell_type": "code",
   "execution_count": 1,
   "metadata": {},
   "outputs": [
    {
     "name": "stdout",
     "output_type": "stream",
     "text": [
      "pygame 2.6.0 (SDL 2.28.4, Python 3.10.14)\n",
      "Hello from the pygame community. https://www.pygame.org/contribute.html\n"
     ]
    }
   ],
   "source": [
    "from piper import PiperVoice\n",
    "import wave\n",
    "from pathlib import Path\n",
    "from pygame import mixer\n",
    "from datetime import datetime\n",
    "\n",
    "class VoiceAssistant(PiperVoice):\n",
    "    \n",
    "    def create_unique():\n",
    "        suan = datetime.now()\n",
    "        suan = suan.strftime(\"%d%m%Y%H%M%S\")\n",
    "        \n",
    "        return suan\n",
    "\n",
    "\n",
    "    def synthesize_args(length_scale = 1 ,noise_scale = 0.667,noise_w = 0.8,sentence_silence = 0.66):\n",
    "\n",
    "        return {\"length_scale\":length_scale,\n",
    "                \"noise_scale\":noise_scale,\n",
    "                \"noise_w\":noise_w,\n",
    "                \"sentence_silence\":sentence_silence\n",
    "                }\n",
    "\n",
    "\n",
    "    def play_sound(wav_path):\n",
    "        mixer.init()\n",
    "        mixer.music.load(wav_path)\n",
    "        return mixer.music.play()\n",
    "\n",
    "\n",
    "    def save(self,txt_file,synthesize_args,output_dir=\".\"):\n",
    "        \n",
    "        file_name = datetime.now().strftime(\"%d%m%Y%H%M%S\")\n",
    "\n",
    "\n",
    "        output_dir = Path(output_dir)\n",
    "        wav_path = output_dir / f\"{file_name}.wav\"\n",
    "        \n",
    "\n",
    "        with wave.open(str(wav_path), \"wb\") as wav_file:\n",
    "            self.synthesize(txt_file, wav_file, **synthesize_args)\n",
    "\n",
    "        return wav_path \n",
    "\n",
    "voice = VoiceAssistant.load(model_path=\"/home/mert/Desktop/piper/model_6602.onnx\",config_path=\"/home/mert/Desktop/piper/model_6602.onnx.json\")\n",
    "\n",
    "synthesize_arguman =  VoiceAssistant.synthesize_args(1,0.667,0.8,0.66)\n",
    "\n",
    "text = \\\n",
    "\"\"\"\n",
    "Merhaba , ben Ahmet Mert TETİK.\n",
    "\"\"\"\n",
    "\n",
    "\n",
    "a = VoiceAssistant.save(voice,text,synthesize_arguman)\n",
    "\n",
    "VoiceAssistant.play_sound(a)\n"
   ]
  }
 ],
 "metadata": {
  "kernelspec": {
   "display_name": "tensorflow_3",
   "language": "python",
   "name": "python3"
  },
  "language_info": {
   "codemirror_mode": {
    "name": "ipython",
    "version": 3
   },
   "file_extension": ".py",
   "mimetype": "text/x-python",
   "name": "python",
   "nbconvert_exporter": "python",
   "pygments_lexer": "ipython3",
   "version": "3.10.14"
  }
 },
 "nbformat": 4,
 "nbformat_minor": 2
}
