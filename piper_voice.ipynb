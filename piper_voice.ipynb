{
 "cells": [
  {
   "cell_type": "code",
   "execution_count": 2,
   "metadata": {},
   "outputs": [],
   "source": [
    "from piper import PiperVoice\n",
    "import sys\n",
    "import time\n",
    "import wave\n",
    "from pathlib import Path\n",
    "from pygame import mixer\n",
    "import uuid\n",
    "from datetime import datetime"
   ]
  },
  {
   "cell_type": "code",
   "execution_count": 9,
   "metadata": {},
   "outputs": [
    {
     "name": "stdout",
     "output_type": "stream",
     "text": [
      "pygame 2.6.0 (SDL 2.28.4, Python 3.10.14)\n",
      "Hello from the pygame community. https://www.pygame.org/contribute.html\n"
     ]
    }
   ],
   "source": [
    "from pygame import mixer\n",
    "mixer.init()\n",
    "mixer.music.load('/home/mert/Desktop/piper/9258836807965.wav') # örnek: C:/Deneme.mp3\n",
    "mixer.music.play()"
   ]
  },
  {
   "cell_type": "code",
   "execution_count": 10,
   "metadata": {},
   "outputs": [],
   "source": [
    "def play_sound(wav_path):\n",
    "        mixer.init()\n",
    "        mixer.music.load(wav_path) # örnek: C:/Deneme.mp3\n",
    "        \n",
    "        return mixer.music.play()\n",
    "\n",
    "play_sound('/home/mert/Desktop/piper/9258836807965.wav')"
   ]
  },
  {
   "cell_type": "code",
   "execution_count": 28,
   "metadata": {},
   "outputs": [
    {
     "data": {
      "text/plain": [
       "'04082024201543.wav'"
      ]
     },
     "execution_count": 28,
     "metadata": {},
     "output_type": "execute_result"
    }
   ],
   "source": [
    "from datetime import datetime\n",
    "\n",
    "suan = datetime.now()\n",
    "a = suan.strftime(\"%d%m%Y%H%M%S\")+\".wav\"\n",
    "a"
   ]
  },
  {
   "cell_type": "code",
   "execution_count": 1,
   "metadata": {},
   "outputs": [
    {
     "name": "stdout",
     "output_type": "stream",
     "text": [
      "pygame 2.6.0 (SDL 2.28.4, Python 3.10.14)\n",
      "Hello from the pygame community. https://www.pygame.org/contribute.html\n"
     ]
    }
   ],
   "source": [
    "from piper import PiperVoice\n",
    "import wave\n",
    "from pathlib import Path\n",
    "from pygame import mixer\n",
    "from datetime import datetime\n",
    "\n",
    "class VoiceAssistant(PiperVoice):\n",
    "    \n",
    "    def create_unique():\n",
    "        suan = datetime.now()\n",
    "        suan = suan.strftime(\"%d%m%Y%H%M%S\")\n",
    "        \n",
    "        return suan\n",
    "\n",
    "\n",
    "    def synthesize_args(length_scale = 1 ,noise_scale = 0.667,noise_w = 0.8,sentence_silence = 0.66):\n",
    "\n",
    "        return {\"length_scale\":length_scale,\n",
    "                \"noise_scale\":noise_scale,\n",
    "                \"noise_w\":noise_w,\n",
    "                \"sentence_silence\":sentence_silence\n",
    "                }\n",
    "\n",
    "\n",
    "    def play_sound(wav_path):\n",
    "        mixer.init()\n",
    "        mixer.music.load(wav_path)\n",
    "        return mixer.music.play()\n",
    "\n",
    "\n",
    "    def save(self,txt_file,synthesize_args,output_dir=\".\"):\n",
    "        \n",
    "        file_name = datetime.now().strftime(\"%d%m%Y%H%M%S\")\n",
    "\n",
    "\n",
    "        output_dir = Path(output_dir)\n",
    "        wav_path = output_dir / f\"{file_name}.wav\"\n",
    "        \n",
    "\n",
    "        with wave.open(str(wav_path), \"wb\") as wav_file:\n",
    "            self.synthesize(txt_file, wav_file, **synthesize_args)\n",
    "\n",
    "        return wav_path \n",
    "\n",
    "voice = VoiceAssistant.load(model_path=\"/home/mert/Desktop/piper/model_6602.onnx\",config_path=\"/home/mert/Desktop/piper/model_6602.onnx.json\")\n",
    "\n",
    "synthesize_arguman =  VoiceAssistant.synthesize_args(1,0.667,0.8,0.66)\n",
    "\n",
    "text = \\\n",
    "\"\"\"\n",
    "Merhaba , ben Ahmet Mert TETİK.\n",
    "\"\"\"\n",
    "\n",
    "\n",
    "a = VoiceAssistant.save(voice,text,synthesize_arguman)\n",
    "\n",
    "VoiceAssistant.play_sound(a)\n"
   ]
  },
  {
   "cell_type": "code",
   "execution_count": 36,
   "metadata": {},
   "outputs": [],
   "source": [
    "voice = VoiceAssistant.load(model_path=\"/home/mert/Desktop/piper/model_6602.onnx\",config_path=\"/home/mert/Desktop/piper/model_6602.onnx.json\")\n",
    "\n",
    "synthesize_arguman =  VoiceAssistant.synthesize_args(1,0.667,0.8,0.66)\n",
    "\n",
    "text = \\\n",
    "\"\"\"\"\n",
    "Bu ne harika bir gün!\" dedi zürafa. \"Evet,\" diye yanıtladı tilki, \"böyle günlerde hayat çok güzel.\"\n",
    "Ancak; bir gün, ani bir fırtına çıktı! Yağmur şiddetle yağdı, gök gürledi ve şimşek çaktı. Herkes hızlıca evlerine döndü: çünkü fırtına tehlikeliydi. Çiftçi, \"Herkes dikkatli olsun!\" diye bağırdı.\n",
    "O akşam, herkes kendi evinde toplanmıştı. Biraz kitap okudular, biraz sohbet ettiler, biraz da dinlendiler... Ve böylece, uzun ve maceralı bir gün sona erdi.\n",
    "\"\"\"\n",
    "\n",
    "\n",
    "a = VoiceAssistant.save(voice,text,synthesize_arguman)\n",
    "\n",
    "VoiceAssistant.play_sound(a)"
   ]
  },
  {
   "cell_type": "code",
   "execution_count": null,
   "metadata": {},
   "outputs": [],
   "source": []
  }
 ],
 "metadata": {
  "kernelspec": {
   "display_name": "tensorflow_3",
   "language": "python",
   "name": "python3"
  },
  "language_info": {
   "codemirror_mode": {
    "name": "ipython",
    "version": 3
   },
   "file_extension": ".py",
   "mimetype": "text/x-python",
   "name": "python",
   "nbconvert_exporter": "python",
   "pygments_lexer": "ipython3",
   "version": "3.10.14"
  }
 },
 "nbformat": 4,
 "nbformat_minor": 2
}
