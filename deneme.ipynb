{
 "cells": [
  {
   "cell_type": "code",
   "execution_count": 1,
   "metadata": {},
   "outputs": [],
   "source": [
    "import subprocess"
   ]
  },
  {
   "cell_type": "code",
   "execution_count": 3,
   "metadata": {},
   "outputs": [
    {
     "name": "stdout",
     "output_type": "stream",
     "text": [
      "b'deneme.wav\\n'\n"
     ]
    },
    {
     "name": "stderr",
     "output_type": "stream",
     "text": [
      "[2024-08-03 11:45:01.858] [piper] [info] Loaded voice in 0.3728887 second(s)\n",
      "[2024-08-03 11:45:01.860] [piper] [info] Initialized piper\n",
      "[2024-08-03 11:45:02.011] [piper] [info] Real-time factor: 0.04993222608116501 (infer=0.138551171 sec, audio=2.7747845804988662 sec)\n",
      "[2024-08-03 11:45:02.011] [piper] [info] Terminated piper\n"
     ]
    }
   ],
   "source": [
    "import subprocess\n",
    "\n",
    "# İlk komutu çalıştır ve çıktısını PIPE ile al\n",
    "process1 = subprocess.Popen(['echo', 'Merhabalar bugün ses dosyası oluşturacağız'], stdout=subprocess.PIPE)\n",
    "\n",
    "# İkinci komutu çalıştır, ilk komutun çıktısını giriş olarak kullan\n",
    "process2 = subprocess.Popen(['./piper/piper', '--model', 'model_6602.onnx', '--output_file', 'deneme.wav'], stdin=process1.stdout, stdout=subprocess.PIPE)\n",
    "\n",
    "# İlk komutun çıkış borusunu kapat\n",
    "process1.stdout.close()\n",
    "\n",
    "# İkinci komutun tamamlanmasını bekle ve çıktısını al\n",
    "output, error = process2.communicate()\n",
    "\n",
    "# Eğer herhangi bir hata oluştuysa yazdır\n",
    "if error:\n",
    "    print(\"Error:\", error)\n",
    "\n",
    "# Komutun çıktısını yazdır (genellikle ikincil komutun çıktısı olacaktır)\n",
    "print(output)\n"
   ]
  },
  {
   "cell_type": "code",
   "execution_count": 23,
   "metadata": {},
   "outputs": [
    {
     "name": "stdout",
     "output_type": "stream",
     "text": [
      "deneme.wav\n",
      "\n",
      "Error: [2024-08-03 17:12:53.432] [piper] [info] Loaded voice in 0.333400664 second(s)\n",
      "[2024-08-03 17:12:53.433] [piper] [info] Initialized piper\n",
      "[2024-08-03 17:12:55.547] [piper] [info] Real-time factor: 0.047388012378025375 (infer=2.105514938 sec, audio=44.43138321995465 sec)\n",
      "[2024-08-03 17:12:55.547] [piper] [info] Terminated piper\n",
      "\n"
     ]
    }
   ],
   "source": [
    "import subprocess\n",
    "\n",
    "path = \"/home/mert/Desktop/piper/deneme.txt\"\n",
    "\n",
    "temp_file = path.split(\"/\")[-1]\n",
    "\n",
    "output_file = temp_file.split(\".\")[0]+\".wav\"\n",
    "\n",
    "output_file \n",
    "\n",
    "model_onnx_path =  \"/home/mert/Desktop/piper/model_6602.onnx\"\n",
    "\n",
    "\n",
    "# Komutu çalıştır ve çıktıyı al\n",
    "result = subprocess.run(f\"cat /home/mert/Desktop/piper/deneme.txt  | ./piper/piper --model {model_onnx_path} --output_file {output_file}\", shell=True, capture_output=True, text=True)\n",
    "\n",
    "# Komutun çıktısını yazdır\n",
    "print(result.stdout)\n",
    "\n",
    "# Eğer herhangi bir hata oluştuysa yazdır\n",
    "if result.stderr:\n",
    "    print(\"Error:\", result.stderr)\n"
   ]
  },
  {
   "cell_type": "code",
   "execution_count": 37,
   "metadata": {},
   "outputs": [
    {
     "name": "stdout",
     "output_type": "stream",
     "text": [
      "Piper dosyasının izinleri: total 89308\n",
      "-rw-rw-r-- 1 mert mert     8605 Ağu  3 17:36 deneme.ipynb\n",
      "-rw-rw-r-- 1 mert mert      625 Tem 31 22:06 deneme.txt\n",
      "-rw-rw-r-- 1 mert mert 63511038 Ağu  1 12:44 model_6602.onnx\n",
      "-rw-rw-r-- 1 mert mert     7085 Ağu  1 12:45 model_6602.onnx.json\n",
      "drwxrwxrwx 3 mert mert     4096 Ağu  1  2023 piper\n",
      "-rw-rw-r-- 1 mert mert 25916047 Ağu  1  2023 piper_amd64.tar.gz\n",
      "-rw-rw-r-- 1 mert mert  1990140 Ağu  3 17:02 welcome.wav\n",
      "\n",
      "Komut çıktısı: \n",
      "Komut hatası: /bin/sh: 1: /home/mert/Desktop/piper: Permission denied\n",
      "\n"
     ]
    }
   ],
   "source": [
    "import subprocess\n",
    "import os\n",
    "\n",
    "# Dosya yolunu belirtin\n",
    "piper_path = '/home/mert/Desktop/piper'\n",
    "file_path = '/home/mert/Desktop/piper/deneme.txt'\n",
    "\n",
    "# Dosyanın var olup olmadığını kontrol edin\n",
    "if os.path.exists(file_path) and os.path.exists(piper_path):\n",
    "    # Piper dosyasının izinlerini kontrol edin\n",
    "    result = subprocess.run(f'ls -l {piper_path}', shell=True, capture_output=True, text=True)\n",
    "    print(\"Piper dosyasının izinleri:\", result.stdout)\n",
    "\n",
    "    # Piper dosyasına çalıştırma izni verin (gerekiyorsa)\n",
    "    chmod_result = subprocess.run(f'chmod ugo+wxr {piper_path}', shell=True, capture_output=True, text=True)\n",
    "    if chmod_result.stderr:\n",
    "        print(\"Chmod hatası:\", chmod_result.stderr)\n",
    "\n",
    "    # Komutu çalıştır ve çıktıyı al\n",
    "    result = subprocess.run(f\"echo 'Merhabalar bugün ses dosyası oluşturacağız' | {piper_path} --model model_6602.onnx --output_file welcome.wav\", shell=True, capture_output=True, text=True)\n",
    "\n",
    "    # Komutun çıktısını yazdır\n",
    "    print(\"Komut çıktısı:\", result.stdout)\n",
    "\n",
    "    # Eğer herhangi bir hata oluştuysa yazdır\n",
    "    if result.stderr:\n",
    "        print(\"Komut hatası:\", result.stderr)\n",
    "else:\n",
    "    print(f\"Error: Dosya bulunamadı - {file_path} veya {piper_path}\")\n",
    "\n"
   ]
  },
  {
   "cell_type": "code",
   "execution_count": 18,
   "metadata": {},
   "outputs": [
    {
     "name": "stdout",
     "output_type": "stream",
     "text": [
      "\n",
      "Error: /bin/sh: 1: /home/mert/Desktop/piper/piper: Permission denied\n",
      "\n"
     ]
    }
   ],
   "source": []
  },
  {
   "cell_type": "code",
   "execution_count": 6,
   "metadata": {},
   "outputs": [
    {
     "data": {
      "text/plain": [
       "'deneme.wav'"
      ]
     },
     "execution_count": 6,
     "metadata": {},
     "output_type": "execute_result"
    }
   ],
   "source": [
    "path = \"/home/mert/Desktop/piper/deneme.txt\"\n",
    "\n",
    "temp_file = path.split(\"/\")[-1]\n",
    "\n",
    "output_file = temp_file.split(\".\")[0]+\".wav\"\n",
    "\n",
    "output_file \n"
   ]
  },
  {
   "cell_type": "code",
   "execution_count": 57,
   "metadata": {},
   "outputs": [
    {
     "data": {
      "text/plain": [
       "CompletedProcess(args='cat /home/mert/Desktop/piper/deneme.txt | piper/piper --model /home/mert/Desktop/piper/model_6602.onnx --output_file deneme.wav', returncode=0, stdout='deneme.wav\\n', stderr='[2024-08-03 17:40:08.843] [piper] [info] Loaded voice in 0.311832177 second(s)\\n[2024-08-03 17:40:08.843] [piper] [info] Initialized piper\\n[2024-08-03 17:40:10.394] [piper] [info] Real-time factor: 0.035024115782475204 (infer=1.542751147 sec, audio=44.04825396825397 sec)\\n[2024-08-03 17:40:10.394] [piper] [info] Terminated piper\\n')"
      ]
     },
     "execution_count": 57,
     "metadata": {},
     "output_type": "execute_result"
    }
   ],
   "source": [
    "import subprocess\n",
    "import os\n",
    "\n",
    "def tts_realtime(txt_file_path,model_onnx_path):\n",
    "    temp_output_file = txt_file_path.split(\"/\")[-1]\n",
    "    output_wav_file = temp_output_file.split(\".\")[0]+\".wav\"\n",
    "\n",
    "    return subprocess.run(f\"cat {txt_file_path} | piper/piper --model {model_onnx_path} --output_file {output_wav_file}\",shell=True, capture_output=True, text=True)\n",
    "\n",
    "\n",
    "txt_path = \"/home/mert/Desktop/piper/deneme.txt\"\n",
    "\n",
    "# piper_path = \"/home/mert/Desktop/piper/piper\"\n",
    "\n",
    "model_onnx_path = \"/home/mert/Desktop/piper/model_6602.onnx\"\n",
    "\n",
    "\n",
    "tts_realtime(txt_path,model_onnx_path)"
   ]
  },
  {
   "cell_type": "code",
   "execution_count": null,
   "metadata": {},
   "outputs": [],
   "source": [
    "class TTSRealtime:\n",
    "    def __init__(self,text_path,model_onnx_path,piper_path):\n",
    "        self.text_path = text_path\n",
    "        self.model_onnx = model_onnx_path\n",
    "        self.piper_path = piper_path\n",
    "\n",
    "    \n",
    "    \n",
    "    \n",
    "        "
   ]
  },
  {
   "cell_type": "code",
   "execution_count": 25,
   "metadata": {},
   "outputs": [
    {
     "name": "stdout",
     "output_type": "stream",
     "text": [
      "6\n"
     ]
    }
   ],
   "source": [
    "text = \"Merhaba dünya ben ahmet mert tetik\"\n",
    "\n",
    "bosluk_sayisi = 0\n",
    "bosluk = \" \"\n",
    "\n",
    "for i in text:\n",
    "    if i == \" \":\n",
    "        bosluk_Sayisi+=1\n",
    "\n",
    "print(bosluk_Sayisi+1)"
   ]
  },
  {
   "cell_type": "code",
   "execution_count": 38,
   "metadata": {},
   "outputs": [
    {
     "name": "stdout",
     "output_type": "stream",
     "text": [
      "77\n"
     ]
    }
   ],
   "source": [
    "with open(\"deneme.txt\") as f:\n",
    "    a = f.read()\n",
    "    \n",
    "    bosluk_Sayisi = 0\n",
    "\n",
    "    for i in a:\n",
    "        if i == \" \":\n",
    "            bosluk_Sayisi+=1\n",
    "            \n",
    "    print(bosluk_Sayisi+1)"
   ]
  },
  {
   "cell_type": "code",
   "execution_count": null,
   "metadata": {},
   "outputs": [],
   "source": [
    "from piper import PiperVoice\n",
    "\n",
    "txt_path = \"/home/mert/Desktop/piper/deneme.txt\"\n",
    "\n",
    "piper_path = \"/home/mert/Desktop/piper/piper\"  # Permission denied hatası veriyor.\n",
    "\n",
    "piper_path_2 = \"piper/piper\"    # yolu piper/piper verdiğimiz zaman çalışıyor. \n",
    "\n",
    "model_onnx_path = \"/home/mert/Desktop/piper/model_6602.onnx\"\n",
    "\n",
    "\n",
    "PiperVoice.load()"
   ]
  },
  {
   "cell_type": "code",
   "execution_count": 1,
   "metadata": {},
   "outputs": [
    {
     "name": "stdout",
     "output_type": "stream",
     "text": [
      "zaman:  2.9217379093170166\n"
     ]
    }
   ],
   "source": [
    "import subprocess\n",
    "import time\n",
    "# subprocess kütüphanesi terminaldeki kodların python'da yazmamızı sağlıyor.\n",
    "\n",
    "t0 = time.time()\n",
    "\n",
    "def tts_realtime(txt_file_path,model_onnx_path,piper_path):\n",
    "    \n",
    "    \n",
    "    temp_output_file = txt_file_path.split(\"/\")[-1]\n",
    "    output_wav_file = temp_output_file.split(\".\")[0]+\".wav\"\n",
    "\n",
    "    return subprocess.run(f\"cat {txt_file_path} | {piper_path} --model {model_onnx_path} --output_file {output_wav_file}\",shell=True, capture_output=True, text=True)\n",
    "    \n",
    "\n",
    "\n",
    "# subprocess.run = verdiğimiz komutun çalışmasını sağlayan fonksiyon.\n",
    "# bu fonksiyonun ilk parametresini çalışmasını istediğimiz kodu veriyoruz.\n",
    "# shell = True : yazdığımız kodun shell'den çalışmasını sağlar.\n",
    "# capture_output = True : kodun çıktısını ve varsa hata bilgisini gösterir.\n",
    "# text = True : çıktıyı ve varsa hatayı metin olarak döndürür.\n",
    "\n",
    "txt_path = \"/home/mert/Desktop/piper/deneme.txt\"\n",
    "\n",
    "piper_path = \"/home/mert/Desktop/piper/piper\"  # Permission denied hatası veriyor.\n",
    "\n",
    "piper_path_2 = \"piper/piper\"    # yolu piper/piper verdiğimiz zaman çalışıyor. \n",
    "\n",
    "model_onnx_path = \"/home/mert/Desktop/piper/model_6602.onnx\"\n",
    "\n",
    "\n",
    "tts_realtime(txt_path,model_onnx_path,piper_path_2)\n",
    "\n",
    "t1 = time.time()\n",
    "\n",
    "print(\"zaman: \",t1-t0)"
   ]
  },
  {
   "cell_type": "markdown",
   "metadata": {},
   "source": []
  },
  {
   "cell_type": "code",
   "execution_count": 3,
   "metadata": {},
   "outputs": [
    {
     "data": {
      "text/plain": [
       "'/home/mert/Desktop/piper'"
      ]
     },
     "execution_count": 3,
     "metadata": {},
     "output_type": "execute_result"
    }
   ],
   "source": [
    "pwd"
   ]
  },
  {
   "cell_type": "code",
   "execution_count": 5,
   "metadata": {},
   "outputs": [
    {
     "name": "stdout",
     "output_type": "stream",
     "text": [
      "total 91260\n",
      "-rw-rw-r-- 1 mert mert    12109 Ağu  3 21:45 deneme.ipynb\n",
      "-rw-rw-r-- 1 mert mert      625 Tem 31 22:06 deneme.txt\n",
      "-rw-rw-r-- 1 mert mert  1995772 Ağu  3 21:45 \u001b[0m\u001b[00;36mdeneme.wav\u001b[0m\n",
      "-rw-rw-r-- 1 mert mert 63511038 Ağu  1 12:44 model_6602.onnx\n",
      "-rw-rw-r-- 1 mert mert     7085 Ağu  1 12:45 model_6602.onnx.json\n",
      "drwxrwxrwx 3 mert mert     4096 Ağu  1  2023 \u001b[34;42mpiper\u001b[0m/\n",
      "-rw-rw-r-- 1 mert mert 25916047 Ağu  1  2023 \u001b[01;31mpiper_amd64.tar.gz\u001b[0m\n",
      "-rw-rw-r-- 1 mert mert  1990140 Ağu  3 17:02 \u001b[00;36mwelcome.wav\u001b[0m\n"
     ]
    }
   ],
   "source": [
    "ls -l"
   ]
  },
  {
   "cell_type": "code",
   "execution_count": null,
   "metadata": {},
   "outputs": [],
   "source": []
  },
  {
   "cell_type": "code",
   "execution_count": null,
   "metadata": {},
   "outputs": [],
   "source": []
  }
 ],
 "metadata": {
  "kernelspec": {
   "display_name": "tensorflow_3",
   "language": "python",
   "name": "python3"
  },
  "language_info": {
   "codemirror_mode": {
    "name": "ipython",
    "version": 3
   },
   "file_extension": ".py",
   "mimetype": "text/x-python",
   "name": "python",
   "nbconvert_exporter": "python",
   "pygments_lexer": "ipython3",
   "version": "3.10.14"
  }
 },
 "nbformat": 4,
 "nbformat_minor": 2
}
